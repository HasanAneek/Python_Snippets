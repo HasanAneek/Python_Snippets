{
 "cells": [
  {
   "cell_type": "code",
   "execution_count": null,
   "id": "197fb319",
   "metadata": {},
   "outputs": [],
   "source": []
  },
  {
   "cell_type": "code",
   "execution_count": 1,
   "id": "99c3f894",
   "metadata": {},
   "outputs": [],
   "source": [
    "person = {\n",
    "     'first' : ['Jahid','Mahadi','Marina','Ayat'],\n",
    "     'last' : ['hasan','hasan','akter','hasan'],\n",
    "     'email' : ['jahid@hasan.com','mahadi@hasan.com','marina@akter.com','ayat@hasan.com'],\n",
    "}"
   ]
  },
  {
   "cell_type": "code",
   "execution_count": 2,
   "id": "efddac50",
   "metadata": {},
   "outputs": [
    {
     "data": {
      "text/plain": [
       "['Jahid', 'Mahadi', 'Marina', 'Ayat']"
      ]
     },
     "execution_count": 2,
     "metadata": {},
     "output_type": "execute_result"
    }
   ],
   "source": [
    "person['first']"
   ]
  },
  {
   "cell_type": "code",
   "execution_count": 3,
   "id": "5058d6ed",
   "metadata": {},
   "outputs": [
    {
     "data": {
      "text/plain": [
       "['jahid@hasan.com', 'mahadi@hasan.com', 'marina@akter.com', 'ayat@hasan.com']"
      ]
     },
     "execution_count": 3,
     "metadata": {},
     "output_type": "execute_result"
    }
   ],
   "source": [
    "person['email']"
   ]
  },
  {
   "cell_type": "code",
   "execution_count": 4,
   "id": "465f55b6",
   "metadata": {},
   "outputs": [],
   "source": [
    "import pandas as pd\n",
    "import numpy as np"
   ]
  },
  {
   "cell_type": "code",
   "execution_count": 5,
   "id": "43fe7d7d",
   "metadata": {},
   "outputs": [],
   "source": [
    "df = pd.DataFrame(person)"
   ]
  },
  {
   "cell_type": "code",
   "execution_count": 6,
   "id": "68d592d1",
   "metadata": {},
   "outputs": [
    {
     "data": {
      "text/html": [
       "<div>\n",
       "<style scoped>\n",
       "    .dataframe tbody tr th:only-of-type {\n",
       "        vertical-align: middle;\n",
       "    }\n",
       "\n",
       "    .dataframe tbody tr th {\n",
       "        vertical-align: top;\n",
       "    }\n",
       "\n",
       "    .dataframe thead th {\n",
       "        text-align: right;\n",
       "    }\n",
       "</style>\n",
       "<table border=\"1\" class=\"dataframe\">\n",
       "  <thead>\n",
       "    <tr style=\"text-align: right;\">\n",
       "      <th></th>\n",
       "      <th>first</th>\n",
       "      <th>last</th>\n",
       "      <th>email</th>\n",
       "    </tr>\n",
       "  </thead>\n",
       "  <tbody>\n",
       "    <tr>\n",
       "      <th>0</th>\n",
       "      <td>Jahid</td>\n",
       "      <td>hasan</td>\n",
       "      <td>jahid@hasan.com</td>\n",
       "    </tr>\n",
       "    <tr>\n",
       "      <th>1</th>\n",
       "      <td>Mahadi</td>\n",
       "      <td>hasan</td>\n",
       "      <td>mahadi@hasan.com</td>\n",
       "    </tr>\n",
       "    <tr>\n",
       "      <th>2</th>\n",
       "      <td>Marina</td>\n",
       "      <td>akter</td>\n",
       "      <td>marina@akter.com</td>\n",
       "    </tr>\n",
       "    <tr>\n",
       "      <th>3</th>\n",
       "      <td>Ayat</td>\n",
       "      <td>hasan</td>\n",
       "      <td>ayat@hasan.com</td>\n",
       "    </tr>\n",
       "  </tbody>\n",
       "</table>\n",
       "</div>"
      ],
      "text/plain": [
       "    first   last             email\n",
       "0   Jahid  hasan   jahid@hasan.com\n",
       "1  Mahadi  hasan  mahadi@hasan.com\n",
       "2  Marina  akter  marina@akter.com\n",
       "3    Ayat  hasan    ayat@hasan.com"
      ]
     },
     "execution_count": 6,
     "metadata": {},
     "output_type": "execute_result"
    }
   ],
   "source": [
    "df"
   ]
  },
  {
   "cell_type": "code",
   "execution_count": 7,
   "id": "fe833c18",
   "metadata": {},
   "outputs": [
    {
     "data": {
      "text/plain": [
       "0     jahid@hasan.com\n",
       "1    mahadi@hasan.com\n",
       "2    marina@akter.com\n",
       "3      ayat@hasan.com\n",
       "Name: email, dtype: object"
      ]
     },
     "execution_count": 7,
     "metadata": {},
     "output_type": "execute_result"
    }
   ],
   "source": [
    "df.email"
   ]
  },
  {
   "cell_type": "code",
   "execution_count": 8,
   "id": "4856b877",
   "metadata": {},
   "outputs": [
    {
     "data": {
      "text/plain": [
       "0     jahid@hasan.com\n",
       "1    mahadi@hasan.com\n",
       "2    marina@akter.com\n",
       "3      ayat@hasan.com\n",
       "Name: email, dtype: object"
      ]
     },
     "execution_count": 8,
     "metadata": {},
     "output_type": "execute_result"
    }
   ],
   "source": [
    "df['email']"
   ]
  },
  {
   "cell_type": "code",
   "execution_count": 9,
   "id": "f7059a29",
   "metadata": {},
   "outputs": [
    {
     "data": {
      "text/html": [
       "<div>\n",
       "<style scoped>\n",
       "    .dataframe tbody tr th:only-of-type {\n",
       "        vertical-align: middle;\n",
       "    }\n",
       "\n",
       "    .dataframe tbody tr th {\n",
       "        vertical-align: top;\n",
       "    }\n",
       "\n",
       "    .dataframe thead th {\n",
       "        text-align: right;\n",
       "    }\n",
       "</style>\n",
       "<table border=\"1\" class=\"dataframe\">\n",
       "  <thead>\n",
       "    <tr style=\"text-align: right;\">\n",
       "      <th></th>\n",
       "      <th>first</th>\n",
       "      <th>email</th>\n",
       "    </tr>\n",
       "  </thead>\n",
       "  <tbody>\n",
       "    <tr>\n",
       "      <th>0</th>\n",
       "      <td>Jahid</td>\n",
       "      <td>jahid@hasan.com</td>\n",
       "    </tr>\n",
       "    <tr>\n",
       "      <th>1</th>\n",
       "      <td>Mahadi</td>\n",
       "      <td>mahadi@hasan.com</td>\n",
       "    </tr>\n",
       "    <tr>\n",
       "      <th>2</th>\n",
       "      <td>Marina</td>\n",
       "      <td>marina@akter.com</td>\n",
       "    </tr>\n",
       "    <tr>\n",
       "      <th>3</th>\n",
       "      <td>Ayat</td>\n",
       "      <td>ayat@hasan.com</td>\n",
       "    </tr>\n",
       "  </tbody>\n",
       "</table>\n",
       "</div>"
      ],
      "text/plain": [
       "    first             email\n",
       "0   Jahid   jahid@hasan.com\n",
       "1  Mahadi  mahadi@hasan.com\n",
       "2  Marina  marina@akter.com\n",
       "3    Ayat    ayat@hasan.com"
      ]
     },
     "execution_count": 9,
     "metadata": {},
     "output_type": "execute_result"
    }
   ],
   "source": [
    "df[['first','email']]"
   ]
  },
  {
   "cell_type": "code",
   "execution_count": 10,
   "id": "5c74be88",
   "metadata": {},
   "outputs": [
    {
     "data": {
      "text/plain": [
       "Index(['first', 'last', 'email'], dtype='object')"
      ]
     },
     "execution_count": 10,
     "metadata": {},
     "output_type": "execute_result"
    }
   ],
   "source": [
    "df.columns"
   ]
  },
  {
   "cell_type": "code",
   "execution_count": 11,
   "id": "11ce1d83",
   "metadata": {},
   "outputs": [],
   "source": [
    "df = pd.DataFrame(person)"
   ]
  },
  {
   "cell_type": "code",
   "execution_count": 12,
   "id": "77859686",
   "metadata": {},
   "outputs": [
    {
     "ename": "NameError",
     "evalue": "name 'iloc' is not defined",
     "output_type": "error",
     "traceback": [
      "\u001b[0;31m---------------------------------------------------------------------------\u001b[0m",
      "\u001b[0;31mNameError\u001b[0m                                 Traceback (most recent call last)",
      "Cell \u001b[0;32mIn[12], line 1\u001b[0m\n\u001b[0;32m----> 1\u001b[0m df \u001b[38;5;241m=\u001b[39m iloc[\u001b[38;5;241m0\u001b[39m]\n",
      "\u001b[0;31mNameError\u001b[0m: name 'iloc' is not defined"
     ]
    }
   ],
   "source": [
    "df = iloc[0]"
   ]
  },
  {
   "cell_type": "code",
   "execution_count": null,
   "id": "af5064bb",
   "metadata": {},
   "outputs": [],
   "source": [
    "df.iloc[[0,1],2]"
   ]
  },
  {
   "cell_type": "code",
   "execution_count": null,
   "id": "bfd22e49",
   "metadata": {},
   "outputs": [],
   "source": [
    "df.loc[[1,2],['email','last']]"
   ]
  },
  {
   "cell_type": "code",
   "execution_count": null,
   "id": "1d29a0ab",
   "metadata": {},
   "outputs": [],
   "source": [
    "df['email']"
   ]
  },
  {
   "cell_type": "code",
   "execution_count": null,
   "id": "7fe07146",
   "metadata": {},
   "outputs": [],
   "source": [
    "df.set_index('email',inplace=True)"
   ]
  },
  {
   "cell_type": "code",
   "execution_count": null,
   "id": "3b6cfe93",
   "metadata": {},
   "outputs": [],
   "source": [
    "df.index"
   ]
  },
  {
   "cell_type": "code",
   "execution_count": null,
   "id": "dea14eaf",
   "metadata": {},
   "outputs": [],
   "source": [
    "df.loc['jahid@hasan.com']"
   ]
  },
  {
   "cell_type": "code",
   "execution_count": null,
   "id": "b02fb014",
   "metadata": {},
   "outputs": [],
   "source": [
    "df.iloc[0]"
   ]
  },
  {
   "cell_type": "code",
   "execution_count": null,
   "id": "ac7936b4",
   "metadata": {},
   "outputs": [],
   "source": [
    "df.reset_index(inplace=True)\n",
    "df"
   ]
  },
  {
   "cell_type": "code",
   "execution_count": null,
   "id": "d2d26c3b",
   "metadata": {},
   "outputs": [],
   "source": [
    "df"
   ]
  },
  {
   "cell_type": "code",
   "execution_count": null,
   "id": "b3a2647e",
   "metadata": {},
   "outputs": [],
   "source": [
    "df['last'] == 'hasan'"
   ]
  },
  {
   "cell_type": "code",
   "execution_count": null,
   "id": "c0e94bae",
   "metadata": {},
   "outputs": [],
   "source": [
    "filt = (df['last'] == 'akter') | (df['first'] == 'Mahadi')"
   ]
  },
  {
   "cell_type": "code",
   "execution_count": null,
   "id": "04b1801b",
   "metadata": {},
   "outputs": [],
   "source": [
    "df.loc[~filt]"
   ]
  },
  {
   "cell_type": "code",
   "execution_count": null,
   "id": "28acaaef",
   "metadata": {},
   "outputs": [],
   "source": [
    "df.columns = ['first_name','last_name','email']"
   ]
  },
  {
   "cell_type": "code",
   "execution_count": null,
   "id": "94863fce",
   "metadata": {},
   "outputs": [],
   "source": [
    "df"
   ]
  },
  {
   "cell_type": "code",
   "execution_count": null,
   "id": "39946702",
   "metadata": {},
   "outputs": [],
   "source": [
    "df.columns = [x.lower() for x in df.columns]\n",
    "df"
   ]
  },
  {
   "cell_type": "code",
   "execution_count": null,
   "id": "cbe54043",
   "metadata": {},
   "outputs": [],
   "source": [
    "df.columns = df.columns.str.replace(' ','_')\n",
    "df"
   ]
  },
  {
   "cell_type": "code",
   "execution_count": null,
   "id": "56257b60",
   "metadata": {},
   "outputs": [],
   "source": [
    "df.rename(columns={'first_name':'first','last_name':'last'},inplace=True)"
   ]
  },
  {
   "cell_type": "code",
   "execution_count": null,
   "id": "5b54cb96",
   "metadata": {},
   "outputs": [],
   "source": [
    "df"
   ]
  },
  {
   "cell_type": "code",
   "execution_count": null,
   "id": "e81c1d58",
   "metadata": {},
   "outputs": [],
   "source": [
    "df.loc[2,['last','email']] = ['hasan','marina@hasan.com']"
   ]
  },
  {
   "cell_type": "code",
   "execution_count": null,
   "id": "1175e962",
   "metadata": {},
   "outputs": [],
   "source": [
    "df"
   ]
  },
  {
   "cell_type": "code",
   "execution_count": null,
   "id": "8052d30b",
   "metadata": {},
   "outputs": [],
   "source": [
    "df.loc[2,'last'] = 'akter'\n",
    "df"
   ]
  },
  {
   "cell_type": "code",
   "execution_count": null,
   "id": "767ea706",
   "metadata": {},
   "outputs": [],
   "source": [
    "df.loc[2,'email'] = 'marina@akter.com'\n",
    "df"
   ]
  },
  {
   "cell_type": "code",
   "execution_count": null,
   "id": "06a21146",
   "metadata": {},
   "outputs": [],
   "source": [
    "filt = (df['email'] == 'jahid@hasan.com')\n",
    "df.loc[filt,'last'] = 'aneek'"
   ]
  },
  {
   "cell_type": "code",
   "execution_count": null,
   "id": "fa051cc4",
   "metadata": {},
   "outputs": [],
   "source": [
    "df['email'].str.upper()"
   ]
  },
  {
   "cell_type": "code",
   "execution_count": null,
   "id": "5974fff5",
   "metadata": {},
   "outputs": [],
   "source": [
    "df['email'] = df['email'].str.lower()\n",
    "df"
   ]
  },
  {
   "cell_type": "code",
   "execution_count": null,
   "id": "887214c0",
   "metadata": {},
   "outputs": [],
   "source": [
    "df"
   ]
  },
  {
   "cell_type": "code",
   "execution_count": null,
   "id": "1923b43e",
   "metadata": {},
   "outputs": [],
   "source": [
    "df['email'].apply(len)"
   ]
  },
  {
   "cell_type": "code",
   "execution_count": null,
   "id": "3d1a1ef4",
   "metadata": {},
   "outputs": [],
   "source": [
    "def updated_email(email):\n",
    "    return email.upper()"
   ]
  },
  {
   "cell_type": "code",
   "execution_count": null,
   "id": "a10ac868",
   "metadata": {},
   "outputs": [],
   "source": [
    "df['email'].apply(updated_email)"
   ]
  },
  {
   "cell_type": "code",
   "execution_count": null,
   "id": "8c31fcf0",
   "metadata": {},
   "outputs": [],
   "source": [
    "df['email'].str.lower()"
   ]
  },
  {
   "cell_type": "code",
   "execution_count": null,
   "id": "23b66cdd",
   "metadata": {},
   "outputs": [],
   "source": [
    "df['email'].apply(lambda x: x.upper())"
   ]
  },
  {
   "cell_type": "code",
   "execution_count": null,
   "id": "1a6fc42c",
   "metadata": {},
   "outputs": [],
   "source": [
    "df.apply(len,axis='columns')"
   ]
  },
  {
   "cell_type": "code",
   "execution_count": null,
   "id": "a6e235fe",
   "metadata": {},
   "outputs": [],
   "source": [
    "df.apply(pd.Series.min)"
   ]
  },
  {
   "cell_type": "code",
   "execution_count": null,
   "id": "1448492c",
   "metadata": {},
   "outputs": [],
   "source": [
    "df.applymap(len)"
   ]
  },
  {
   "cell_type": "code",
   "execution_count": null,
   "id": "4b41e327",
   "metadata": {},
   "outputs": [],
   "source": [
    "df.applymap(str.lower)"
   ]
  },
  {
   "cell_type": "code",
   "execution_count": null,
   "id": "5e03b063",
   "metadata": {},
   "outputs": [],
   "source": [
    "df['first'].map({'jahid': 'sultan', 'mahadi': 'arnab'})"
   ]
  },
  {
   "cell_type": "code",
   "execution_count": null,
   "id": "6e79959e",
   "metadata": {},
   "outputs": [],
   "source": [
    "df"
   ]
  },
  {
   "cell_type": "code",
   "execution_count": null,
   "id": "2bbdc6c5",
   "metadata": {},
   "outputs": [],
   "source": [
    "df['first'].map({'jahid':'sultan','Mahadi':'arnab'})"
   ]
  },
  {
   "cell_type": "code",
   "execution_count": null,
   "id": "4b7fba50",
   "metadata": {},
   "outputs": [],
   "source": [
    "df['first'] + ' ' + df['last']"
   ]
  },
  {
   "cell_type": "code",
   "execution_count": null,
   "id": "0b7fa784",
   "metadata": {},
   "outputs": [],
   "source": [
    "df['full_name'] = df['first']+ ' '+df['last']"
   ]
  },
  {
   "cell_type": "code",
   "execution_count": null,
   "id": "c4123446",
   "metadata": {},
   "outputs": [],
   "source": [
    "df"
   ]
  },
  {
   "cell_type": "code",
   "execution_count": null,
   "id": "d23be6dc",
   "metadata": {},
   "outputs": [],
   "source": [
    "df.drop(columns=['first','last'],inplace=True)"
   ]
  },
  {
   "cell_type": "code",
   "execution_count": null,
   "id": "c9cb5dbf",
   "metadata": {},
   "outputs": [],
   "source": [
    "df"
   ]
  },
  {
   "cell_type": "code",
   "execution_count": null,
   "id": "62513fc3",
   "metadata": {},
   "outputs": [],
   "source": [
    "df['full_name'].str.split(' ',expand=True)"
   ]
  },
  {
   "cell_type": "code",
   "execution_count": null,
   "id": "403d6fac",
   "metadata": {},
   "outputs": [],
   "source": [
    "df[['first','last']] = df['full_name'].str.split(' ',expand=True)"
   ]
  },
  {
   "cell_type": "code",
   "execution_count": null,
   "id": "fb933541",
   "metadata": {},
   "outputs": [],
   "source": [
    "new_row = {'first': 'will', 'last':'Smith'}\n",
    "df._append(new_row,ignore_index=True)"
   ]
  },
  {
   "cell_type": "code",
   "execution_count": null,
   "id": "9e251521",
   "metadata": {},
   "outputs": [],
   "source": [
    "df"
   ]
  },
  {
   "cell_type": "code",
   "execution_count": null,
   "id": "b299b8d2",
   "metadata": {},
   "outputs": [],
   "source": [
    "people = {\n",
    "    'first': ['iffat','helal'],\n",
    "    'last': ['ara', 'uddin'],\n",
    "    'email': ['iffat@ara.com', 'helal@uddin.com']\n",
    "}\n",
    "\n",
    "df2 = pd.DataFrame(people)\n",
    "df2"
   ]
  },
  {
   "cell_type": "code",
   "execution_count": null,
   "id": "8806fc28",
   "metadata": {},
   "outputs": [],
   "source": [
    "df._append(df2,ignore_index=True)"
   ]
  },
  {
   "cell_type": "code",
   "execution_count": null,
   "id": "b703e916",
   "metadata": {},
   "outputs": [],
   "source": [
    "df['full_name'] = df['first'] + ' ' + df['last']"
   ]
  },
  {
   "cell_type": "code",
   "execution_count": null,
   "id": "07a80053",
   "metadata": {},
   "outputs": [],
   "source": [
    "df"
   ]
  },
  {
   "cell_type": "code",
   "execution_count": null,
   "id": "3dec3597",
   "metadata": {},
   "outputs": [],
   "source": [
    "df._append(df2, ignore_index=True)"
   ]
  },
  {
   "cell_type": "code",
   "execution_count": null,
   "id": "e0757b18",
   "metadata": {},
   "outputs": [],
   "source": [
    "df"
   ]
  },
  {
   "cell_type": "code",
   "execution_count": null,
   "id": "51f4d600",
   "metadata": {},
   "outputs": [],
   "source": []
  }
 ],
 "metadata": {
  "kernelspec": {
   "display_name": "Python 3 (ipykernel)",
   "language": "python",
   "name": "python3"
  },
  "language_info": {
   "codemirror_mode": {
    "name": "ipython",
    "version": 3
   },
   "file_extension": ".py",
   "mimetype": "text/x-python",
   "name": "python",
   "nbconvert_exporter": "python",
   "pygments_lexer": "ipython3",
   "version": "3.11.5"
  }
 },
 "nbformat": 4,
 "nbformat_minor": 5
}
